{
 "cells": [
  {
   "cell_type": "markdown",
   "metadata": {},
   "source": [
    "# Softmax exercise\n",
    "\n",
    "*Complete and hand in this completed worksheet (including its outputs and any supporting code outside of the worksheet) with your assignment submission. For more details see the [assignments page](http://vision.stanford.edu/teaching/cs231n/assignments.html) on the course website.*\n",
    "\n",
    "This exercise is analogous to the SVM exercise. You will:\n",
    "\n",
    "- implement a fully-vectorized **loss function** for the Softmax classifier\n",
    "- implement the fully-vectorized expression for its **analytic gradient**\n",
    "- **check your implementation** with numerical gradient\n",
    "- use a validation set to **tune the learning rate and regularization** strength\n",
    "- **optimize** the loss function with **SGD**\n",
    "- **visualize** the final learned weights\n"
   ]
  },
  {
   "cell_type": "code",
   "execution_count": 1,
   "metadata": {
    "collapsed": false
   },
   "outputs": [],
   "source": [
    "import random\n",
    "import numpy as np\n",
    "import matplotlib\n",
    "matplotlib.use('TkAgg')\n",
    "from cs231n.data_utils import load_CIFAR10\n",
    "import matplotlib.pyplot as plt\n",
    "\n",
    "from __future__ import print_function\n",
    "\n",
    "%matplotlib inline\n",
    "plt.rcParams['figure.figsize'] = (10.0, 8.0) # set default size of plots\n",
    "plt.rcParams['image.interpolation'] = 'nearest'\n",
    "plt.rcParams['image.cmap'] = 'gray'\n",
    "\n",
    "# for auto-reloading extenrnal modules\n",
    "# see http://stackoverflow.com/questions/1907993/autoreload-of-modules-in-ipython\n",
    "%load_ext autoreload\n",
    "%autoreload 2"
   ]
  },
  {
   "cell_type": "code",
   "execution_count": 2,
   "metadata": {
    "collapsed": false
   },
   "outputs": [
    {
     "name": "stdout",
     "output_type": "stream",
     "text": [
      "Train data shape:  (49000, 3073)\n",
      "Train labels shape:  (49000,)\n",
      "Validation data shape:  (1000, 3073)\n",
      "Validation labels shape:  (1000,)\n",
      "Test data shape:  (1000, 3073)\n",
      "Test labels shape:  (1000,)\n",
      "dev data shape:  (500, 3073)\n",
      "dev labels shape:  (500,)\n"
     ]
    }
   ],
   "source": [
    "def get_CIFAR10_data(num_training=49000, num_validation=1000, num_test=1000, num_dev=500):\n",
    "    \"\"\"\n",
    "    Load the CIFAR-10 dataset from disk and perform preprocessing to prepare\n",
    "    it for the linear classifier. These are the same steps as we used for the\n",
    "    SVM, but condensed to a single function.  \n",
    "    \"\"\"\n",
    "    # Load the raw CIFAR-10 data\n",
    "    cifar10_dir = 'cs231n/datasets/cifar-10-batches-py'\n",
    "    X_train, y_train, X_test, y_test = load_CIFAR10(cifar10_dir)\n",
    "    \n",
    "    # subsample the data\n",
    "    mask = list(range(num_training, num_training + num_validation))\n",
    "    X_val = X_train[mask]\n",
    "    y_val = y_train[mask]\n",
    "    mask = list(range(num_training))\n",
    "    X_train = X_train[mask]\n",
    "    y_train = y_train[mask]\n",
    "    mask = list(range(num_test))\n",
    "    X_test = X_test[mask]\n",
    "    y_test = y_test[mask]\n",
    "    mask = np.random.choice(num_training, num_dev, replace=False)\n",
    "    X_dev = X_train[mask]\n",
    "    y_dev = y_train[mask]\n",
    "    \n",
    "    # Preprocessing: reshape the image data into rows\n",
    "    X_train = np.reshape(X_train, (X_train.shape[0], -1))\n",
    "    X_val = np.reshape(X_val, (X_val.shape[0], -1))\n",
    "    X_test = np.reshape(X_test, (X_test.shape[0], -1))\n",
    "    X_dev = np.reshape(X_dev, (X_dev.shape[0], -1))\n",
    "    \n",
    "    # Normalize the data: subtract the mean image\n",
    "    mean_image = np.mean(X_train, axis = 0)\n",
    "    #print (mean_image, np.matrix(mean_image).shape)\n",
    "    X_train -= mean_image\n",
    "    X_val -= mean_image\n",
    "    X_test -= mean_image\n",
    "    X_dev -= mean_image\n",
    "    \n",
    "    # add bias dimension and transform into columns\n",
    "    X_train = np.hstack([X_train, np.ones((X_train.shape[0], 1))])\n",
    "    X_val = np.hstack([X_val, np.ones((X_val.shape[0], 1))])\n",
    "    X_test = np.hstack([X_test, np.ones((X_test.shape[0], 1))])\n",
    "    X_dev = np.hstack([X_dev, np.ones((X_dev.shape[0], 1))])\n",
    "    \n",
    "    return X_train, y_train, X_val, y_val, X_test, y_test, X_dev, y_dev\n",
    "\n",
    "\n",
    "# Invoke the above function to get our data.\n",
    "X_train, y_train, X_val, y_val, X_test, y_test, X_dev, y_dev = get_CIFAR10_data()\n",
    "print('Train data shape: ', X_train.shape)\n",
    "print('Train labels shape: ', y_train.shape)\n",
    "print('Validation data shape: ', X_val.shape)\n",
    "print('Validation labels shape: ', y_val.shape)\n",
    "print('Test data shape: ', X_test.shape)\n",
    "print('Test labels shape: ', y_test.shape)\n",
    "print('dev data shape: ', X_dev.shape)\n",
    "print('dev labels shape: ', y_dev.shape)"
   ]
  },
  {
   "cell_type": "markdown",
   "metadata": {},
   "source": [
    "## Softmax Classifier\n",
    "\n",
    "Your code for this section will all be written inside **cs231n/classifiers/softmax.py**. \n"
   ]
  },
  {
   "cell_type": "code",
   "execution_count": 3,
   "metadata": {
    "collapsed": false
   },
   "outputs": [
    {
     "name": "stdout",
     "output_type": "stream",
     "text": [
      "loss: 2.372189\n",
      "sanity check: 2.302585\n"
     ]
    }
   ],
   "source": [
    "# First implement the naive softmax loss function with nested loops.\n",
    "# Open the file cs231n/classifiers/softmax.py and implement the\n",
    "# softmax_loss_naive function.\n",
    "\n",
    "from cs231n.classifiers.softmax import softmax_loss_naive\n",
    "import time\n",
    "\n",
    "# Generate a random softmax weight matrix and use it to compute the loss.\n",
    "W = np.random.randn(3073, 10) * 0.0001\n",
    "loss, grad = softmax_loss_naive(W, X_dev, y_dev, 0.0)\n",
    "\n",
    "# As a rough sanity check, our loss should be something close to -log(0.1).\n",
    "print('loss: %f' % loss)\n",
    "print('sanity check: %f' % (-np.log(0.1)))"
   ]
  },
  {
   "cell_type": "markdown",
   "metadata": {},
   "source": [
    "## Inline Question 1:\n",
    "Why do we expect our loss to be close to -log(0.1)? Explain briefly.**\n",
    "\n",
    "**Your answer:** *Fill this in*\n"
   ]
  },
  {
   "cell_type": "code",
   "execution_count": 4,
   "metadata": {
    "collapsed": false
   },
   "outputs": [
    {
     "name": "stdout",
     "output_type": "stream",
     "text": [
      "(3073, 10)\n",
      "numerical: 0.383331 analytic: 0.383331, relative error: 1.659869e-07\n",
      "numerical: 0.922964 analytic: 0.922964, relative error: 6.163281e-08\n",
      "numerical: -2.165113 analytic: -2.165113, relative error: 5.722356e-09\n",
      "numerical: -0.182115 analytic: -0.182115, relative error: 7.754840e-09\n",
      "numerical: -1.765708 analytic: -1.765708, relative error: 1.573612e-08\n",
      "numerical: -3.515957 analytic: -3.515956, relative error: 1.175461e-08\n",
      "numerical: 1.702610 analytic: 1.702610, relative error: 3.021057e-09\n",
      "numerical: 0.346980 analytic: 0.346980, relative error: 1.439655e-07\n",
      "numerical: 4.143118 analytic: 4.143118, relative error: 1.214550e-08\n",
      "numerical: 4.218144 analytic: 4.218144, relative error: 2.471692e-08\n",
      "numerical: -0.324224 analytic: -0.324224, relative error: 1.424323e-07\n",
      "numerical: -1.401890 analytic: -1.401890, relative error: 8.076074e-10\n",
      "numerical: -3.481060 analytic: -3.481060, relative error: 3.372847e-09\n",
      "numerical: 1.961462 analytic: 1.961462, relative error: 3.054671e-08\n",
      "numerical: 0.868670 analytic: 0.868670, relative error: 6.226659e-08\n",
      "numerical: 2.289346 analytic: 2.289346, relative error: 2.156532e-08\n",
      "numerical: -2.216167 analytic: -2.216167, relative error: 8.685323e-10\n",
      "numerical: -2.944495 analytic: -2.944495, relative error: 6.999378e-09\n",
      "numerical: -2.314244 analytic: -2.314244, relative error: 1.926232e-08\n",
      "numerical: 1.677193 analytic: 1.677193, relative error: 7.186310e-09\n"
     ]
    }
   ],
   "source": [
    "# Complete the implementation of softmax_loss_naive and implement a (naive)\n",
    "# version of the gradient that uses nested loops.\n",
    "loss, grad = softmax_loss_naive(W, X_dev, y_dev, 0.0)\n",
    "print (grad.shape)\n",
    "# As we did for the SVM, use numeric gradient checking as a debugging tool.\n",
    "# The numeric gradient should be close to the analytic gradient.\n",
    "from cs231n.gradient_check import grad_check_sparse\n",
    "f = lambda w: softmax_loss_naive(w, X_dev, y_dev, 0.0)[0]\n",
    "grad_numerical = grad_check_sparse(f, W, grad, 10)\n",
    "\n",
    "# similar to SVM case, do another gradient check with regularization\n",
    "loss, grad = softmax_loss_naive(W, X_dev, y_dev, 5e1)\n",
    "f = lambda w: softmax_loss_naive(w, X_dev, y_dev, 5e1)[0]\n",
    "grad_numerical = grad_check_sparse(f, W, grad, 10)"
   ]
  },
  {
   "cell_type": "code",
   "execution_count": 5,
   "metadata": {
    "collapsed": false
   },
   "outputs": [
    {
     "name": "stdout",
     "output_type": "stream",
     "text": [
      "naive loss: 2.372189e+00 computed in 0.108459s\n",
      "vectorized loss: 2.372189e+00 computed in 0.020246s\n",
      "Loss difference: 0.000000\n",
      "Gradient difference: 0.000000\n"
     ]
    }
   ],
   "source": [
    "# Now that we have a naive implementation of the softmax loss function and its gradient,\n",
    "# implement a vectorized version in softmax_loss_vectorized.\n",
    "# The two versions should compute the same results, but the vectorized version should be\n",
    "# much faster.\n",
    "tic = time.time()\n",
    "loss_naive, grad_naive = softmax_loss_naive(W, X_dev, y_dev, 0.000005)\n",
    "toc = time.time()\n",
    "print('naive loss: %e computed in %fs' % (loss_naive, toc - tic))\n",
    "\n",
    "from cs231n.classifiers.softmax import softmax_loss_vectorized\n",
    "tic = time.time()\n",
    "loss_vectorized, grad_vectorized = softmax_loss_vectorized(W, X_dev, y_dev, 0.000005)\n",
    "toc = time.time()\n",
    "print('vectorized loss: %e computed in %fs' % (loss_vectorized, toc - tic))\n",
    "\n",
    "# As we did for the SVM, we use the Frobenius norm to compare the two versions\n",
    "# of the gradient.\n",
    "grad_difference = np.linalg.norm(grad_naive - grad_vectorized, ord='fro')\n",
    "print('Loss difference: %f' % np.abs(loss_naive - loss_vectorized))\n",
    "print('Gradient difference: %f' % grad_difference)"
   ]
  },
  {
   "cell_type": "code",
   "execution_count": 6,
   "metadata": {
    "collapsed": false
   },
   "outputs": [
    {
     "name": "stderr",
     "output_type": "stream",
     "text": [
      "/Users/vandanasingh/Documents/assignment1/cs231n/classifiers/softmax.py:81: RuntimeWarning: divide by zero encountered in log\n",
      "  loss = np.sum(-np.log(prob[np.arange(num_train),y]))\n",
      "/Users/vandanasingh/Documents/assignment1/cs231n/classifiers/softmax.py:83: RuntimeWarning: overflow encountered in double_scalars\n",
      "  loss += 0.5 * reg * np.sum(W * W)\n",
      "/Users/vandanasingh/Documents/assignment1/cs231n/classifiers/softmax.py:83: RuntimeWarning: overflow encountered in multiply\n",
      "  loss += 0.5 * reg * np.sum(W * W)\n",
      "/Users/vandanasingh/Documents/assignment1/cs231n/classifiers/softmax.py:88: RuntimeWarning: overflow encountered in multiply\n",
      "  dW += reg * W\n"
     ]
    },
    {
     "name": "stdout",
     "output_type": "stream",
     "text": [
      "lr 1.000000e-07 reg 1.000000e+04 train accuracy: 0.329265 val accuracy: 0.336000\n",
      "lr 1.000000e-07 reg 2.000000e+04 train accuracy: 0.350755 val accuracy: 0.360000\n",
      "lr 1.000000e-07 reg 3.000000e+04 train accuracy: 0.345776 val accuracy: 0.363000\n",
      "lr 1.000000e-07 reg 4.000000e+04 train accuracy: 0.336714 val accuracy: 0.344000\n",
      "lr 1.000000e-07 reg 5.000000e+04 train accuracy: 0.327122 val accuracy: 0.342000\n",
      "lr 1.000000e-07 reg 6.000000e+04 train accuracy: 0.322796 val accuracy: 0.337000\n",
      "lr 1.000000e-07 reg 7.000000e+04 train accuracy: 0.311918 val accuracy: 0.330000\n",
      "lr 1.000000e-07 reg 8.000000e+04 train accuracy: 0.321735 val accuracy: 0.334000\n",
      "lr 1.000000e-07 reg 1.000000e+05 train accuracy: 0.304551 val accuracy: 0.323000\n",
      "lr 2.000000e-07 reg 1.000000e+04 train accuracy: 0.372245 val accuracy: 0.377000\n",
      "lr 2.000000e-07 reg 2.000000e+04 train accuracy: 0.354388 val accuracy: 0.367000\n",
      "lr 2.000000e-07 reg 3.000000e+04 train accuracy: 0.339939 val accuracy: 0.351000\n",
      "lr 2.000000e-07 reg 4.000000e+04 train accuracy: 0.332918 val accuracy: 0.344000\n",
      "lr 2.000000e-07 reg 5.000000e+04 train accuracy: 0.333265 val accuracy: 0.346000\n",
      "lr 2.000000e-07 reg 6.000000e+04 train accuracy: 0.325245 val accuracy: 0.338000\n",
      "lr 2.000000e-07 reg 7.000000e+04 train accuracy: 0.316020 val accuracy: 0.336000\n",
      "lr 2.000000e-07 reg 8.000000e+04 train accuracy: 0.313939 val accuracy: 0.326000\n",
      "lr 2.000000e-07 reg 1.000000e+05 train accuracy: 0.302367 val accuracy: 0.316000\n",
      "lr 3.000000e-07 reg 1.000000e+04 train accuracy: 0.373020 val accuracy: 0.395000\n",
      "lr 3.000000e-07 reg 2.000000e+04 train accuracy: 0.358327 val accuracy: 0.381000\n",
      "lr 3.000000e-07 reg 3.000000e+04 train accuracy: 0.345959 val accuracy: 0.352000\n",
      "lr 3.000000e-07 reg 4.000000e+04 train accuracy: 0.335204 val accuracy: 0.351000\n",
      "lr 3.000000e-07 reg 5.000000e+04 train accuracy: 0.329551 val accuracy: 0.340000\n",
      "lr 3.000000e-07 reg 6.000000e+04 train accuracy: 0.311551 val accuracy: 0.323000\n",
      "lr 3.000000e-07 reg 7.000000e+04 train accuracy: 0.308531 val accuracy: 0.324000\n",
      "lr 3.000000e-07 reg 8.000000e+04 train accuracy: 0.314633 val accuracy: 0.327000\n",
      "lr 3.000000e-07 reg 1.000000e+05 train accuracy: 0.312082 val accuracy: 0.330000\n",
      "lr 8.000000e-07 reg 1.000000e+04 train accuracy: 0.366306 val accuracy: 0.372000\n",
      "lr 8.000000e-07 reg 2.000000e+04 train accuracy: 0.347755 val accuracy: 0.356000\n",
      "lr 8.000000e-07 reg 3.000000e+04 train accuracy: 0.336061 val accuracy: 0.353000\n",
      "lr 8.000000e-07 reg 4.000000e+04 train accuracy: 0.329061 val accuracy: 0.340000\n",
      "lr 8.000000e-07 reg 5.000000e+04 train accuracy: 0.335735 val accuracy: 0.349000\n",
      "lr 8.000000e-07 reg 6.000000e+04 train accuracy: 0.317408 val accuracy: 0.330000\n",
      "lr 8.000000e-07 reg 7.000000e+04 train accuracy: 0.316102 val accuracy: 0.328000\n",
      "lr 8.000000e-07 reg 8.000000e+04 train accuracy: 0.305694 val accuracy: 0.317000\n",
      "lr 8.000000e-07 reg 1.000000e+05 train accuracy: 0.297735 val accuracy: 0.307000\n",
      "lr 5.000000e-05 reg 1.000000e+04 train accuracy: 0.111571 val accuracy: 0.105000\n",
      "lr 5.000000e-05 reg 2.000000e+04 train accuracy: 0.098837 val accuracy: 0.093000\n",
      "lr 5.000000e-05 reg 3.000000e+04 train accuracy: 0.118898 val accuracy: 0.112000\n",
      "lr 5.000000e-05 reg 4.000000e+04 train accuracy: 0.064286 val accuracy: 0.055000\n",
      "lr 5.000000e-05 reg 5.000000e+04 train accuracy: 0.104143 val accuracy: 0.107000\n",
      "lr 5.000000e-05 reg 6.000000e+04 train accuracy: 0.100265 val accuracy: 0.087000\n",
      "lr 5.000000e-05 reg 7.000000e+04 train accuracy: 0.100265 val accuracy: 0.087000\n",
      "lr 5.000000e-05 reg 8.000000e+04 train accuracy: 0.100265 val accuracy: 0.087000\n",
      "lr 5.000000e-05 reg 1.000000e+05 train accuracy: 0.100265 val accuracy: 0.087000\n",
      "best validation accuracy achieved during cross-validation: 0.395000\n"
     ]
    },
    {
     "name": "stderr",
     "output_type": "stream",
     "text": [
      "/Users/vandanasingh/Documents/assignment1/cs231n/classifiers/softmax.py:79: RuntimeWarning: overflow encountered in subtract\n",
      "  scores -= np.max(scores,axis=1)[:,np.newaxis]\n",
      "/Users/vandanasingh/Documents/assignment1/cs231n/classifiers/softmax.py:79: RuntimeWarning: invalid value encountered in subtract\n",
      "  scores -= np.max(scores,axis=1)[:,np.newaxis]\n"
     ]
    }
   ],
   "source": [
    "# Use the validation set to tune hyperparameters (regularization strength and\n",
    "# learning rate). You should experiment with different ranges for the learning\n",
    "# rates and regularization strengths; if you are careful you should be able to\n",
    "# get a classification accuracy of over 0.35 on the validation set.\n",
    "from cs231n.classifiers import Softmax\n",
    "results = {}\n",
    "best_val = -1\n",
    "best_softmax = None\n",
    "learning_rates = [1e-7, 2e-7, 3e-7, 5e-5, 8e-7]\n",
    "regularization_strengths = [1e4, 2e4, 3e4, 4e4, 5e4, 6e4, 7e4, 8e4, 1e5]\n",
    "\n",
    "################################################################################\n",
    "# TODO:                                                                        #\n",
    "# Use the validation set to set the learning rate and regularization strength. #\n",
    "# This should be identical to the validation that you did for the SVM; save    #\n",
    "# the best trained softmax classifer in best_softmax.                          #\n",
    "################################################################################\n",
    "for lr in learning_rates:\n",
    "    for rs in regularization_strengths:\n",
    "        softmax = Softmax()\n",
    "        loss = softmax.train(X_train, y_train, learning_rate=lr, reg=rs, num_iters=1500, verbose=False)\n",
    "        y_pred_train = softmax.predict(X_train)\n",
    "        y_pred_val = softmax.predict(X_val)\n",
    "        accuracy_train = np.mean(y_train == y_pred_train)\n",
    "        accuracy_val = np.mean(y_val == y_pred_val)\n",
    "        results[(lr,rs)] = (accuracy_train,accuracy_val)\n",
    "        if (best_val < accuracy_val):\n",
    "            best_val = accuracy_val\n",
    "            best_softmax = softmax\n",
    "################################################################################\n",
    "#                              END OF YOUR CODE                                #\n",
    "################################################################################\n",
    "    \n",
    "# Print out results.\n",
    "for lr, reg in sorted(results):\n",
    "    train_accuracy, val_accuracy = results[(lr, reg)]\n",
    "    print('lr %e reg %e train accuracy: %f val accuracy: %f' % (\n",
    "                lr, reg, train_accuracy, val_accuracy))\n",
    "    \n",
    "print('best validation accuracy achieved during cross-validation: %f' % best_val)"
   ]
  },
  {
   "cell_type": "code",
   "execution_count": null,
   "metadata": {
    "collapsed": false
   },
   "outputs": [],
   "source": [
    "# evaluate on test set\n",
    "# Evaluate the best softmax on test set\n",
    "y_test_pred = best_softmax.predict(X_test)\n",
    "test_accuracy = np.mean(y_test == y_test_pred)\n",
    "print('softmax on raw pixels final test set accuracy: %f' % (test_accuracy, ))"
   ]
  },
  {
   "cell_type": "code",
   "execution_count": null,
   "metadata": {
    "collapsed": false
   },
   "outputs": [],
   "source": [
    "# Visualize the learned weights for each class\n",
    "w = best_softmax.W[:-1,:] # strip out the bias\n",
    "w = w.reshape(32, 32, 3, 10)\n",
    "\n",
    "w_min, w_max = np.min(w), np.max(w)\n",
    "\n",
    "classes = ['plane', 'car', 'bird', 'cat', 'deer', 'dog', 'frog', 'horse', 'ship', 'truck']\n",
    "for i in range(10):\n",
    "    plt.subplot(2, 5, i + 1)\n",
    "    \n",
    "    # Rescale the weights to be between 0 and 255\n",
    "    wimg = 255.0 * (w[:, :, :, i].squeeze() - w_min) / (w_max - w_min)\n",
    "    plt.imshow(wimg.astype('uint8'))\n",
    "    plt.axis('off')\n",
    "    plt.title(classes[i])"
   ]
  }
 ],
 "metadata": {
  "kernelspec": {
   "display_name": "Python 3",
   "language": "python",
   "name": "python3"
  },
  "language_info": {
   "codemirror_mode": {
    "name": "ipython",
    "version": 3
   },
   "file_extension": ".py",
   "mimetype": "text/x-python",
   "name": "python",
   "nbconvert_exporter": "python",
   "pygments_lexer": "ipython3",
   "version": "3.5.2"
  }
 },
 "nbformat": 4,
 "nbformat_minor": 0
}
